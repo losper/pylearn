{
 "cells": [
  {
   "cell_type": "code",
   "execution_count": 1,
   "metadata": {},
   "outputs": [
    {
     "name": "stdout",
     "output_type": "stream",
     "text": [
      "recording\n",
      "done recording\n"
     ]
    }
   ],
   "source": [
    "#encoding:utf8\n",
    "import pyaudio\n",
    "import wave\n",
    "import time\n",
    "\n",
    "WIDTH = 2\n",
    "CHANNELS = 2\n",
    "RATE = 44100\n",
    "gsec=0\n",
    "p = pyaudio.PyAudio()\n",
    "wf=wave.open(\"test.wav\",\"wb\")\n",
    "wf.setnchannels(CHANNELS)\n",
    "wf.setsampwidth(WIDTH)\n",
    "wf.setframerate(RATE)\n",
    "\n",
    "def callback(in_data, frame_count, time_info, status):\n",
    "    global gsec\n",
    "    wf.writeframesraw(in_data)\n",
    "    gsec=gsec+1\n",
    "    if gsec>2:\n",
    "        return (in_data,pyaudio.paComplete)\n",
    "    return (in_data, pyaudio.paContinue)\n",
    "\n",
    "stream = p.open(format=p.get_format_from_width(WIDTH),\n",
    "                channels=CHANNELS,\n",
    "                rate=RATE,\n",
    "                input=True,\n",
    "                output=False,\n",
    "                frames_per_buffer=44100,\n",
    "                stream_callback=callback)\n",
    "\n",
    "print(\"recording\")\n",
    "stream.start_stream()\n",
    "while stream.is_active():\n",
    "    time.sleep(0.1)\n",
    "\n",
    "stream.stop_stream()\n",
    "stream.close()\n",
    "print(\"done recording\")\n",
    "wf.close()\n",
    "p.terminate()"
   ]
  },
  {
   "cell_type": "code",
   "execution_count": null,
   "metadata": {},
   "outputs": [],
   "source": [
    "\n"
   ]
  },
  {
   "cell_type": "code",
   "execution_count": null,
   "metadata": {},
   "outputs": [],
   "source": []
  },
  {
   "cell_type": "code",
   "execution_count": null,
   "metadata": {},
   "outputs": [],
   "source": []
  }
 ],
 "metadata": {
  "kernelspec": {
   "display_name": "Python 3",
   "language": "python",
   "name": "python3"
  },
  "language_info": {
   "codemirror_mode": {
    "name": "ipython",
    "version": 3
   },
   "file_extension": ".py",
   "mimetype": "text/x-python",
   "name": "python",
   "nbconvert_exporter": "python",
   "pygments_lexer": "ipython3",
   "version": "3.6.4"
  }
 },
 "nbformat": 4,
 "nbformat_minor": 2
}
