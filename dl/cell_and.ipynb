{
 "cells": [
  {
   "cell_type": "code",
   "execution_count": 9,
   "metadata": {},
   "outputs": [],
   "source": [
    "from functools import reduce\n",
    "class Perceptron(object):\n",
    "    def __init__(self, input_num, activator):\n",
    "        self.activator = activator\n",
    "        self.weights = [0.0 for _ in range(input_num)]\n",
    "        self.bias = 0.0\n",
    "    def __str__(self):\n",
    "        return 'weights\\t:%s\\nbias\\t:%f\\n' % (self.weights,self.bias)\n",
    "    def update_weights(self,input_vec,output,label,rate):\n",
    "        delta = label - output\n",
    "        self.weights = list(map(lambda x,w: w+rate*delta*x,input_vec,self.weights))\n",
    "        # 更新bias\n",
    "        self.bias += rate * delta\n",
    "        print(input_vec,label,output,self.weights,self.bias)\n",
    "    def predict(self,input_vec):\n",
    "        # 把input_vec[x1,x2,x3...]和weights[w1,w2,w3,...]打包在一起\n",
    "        # 变成[(x1,w1),(x2,w2),(x3,w3),...]\n",
    "        # 然后利用map函数计算[x1*w1, x2*w2, x3*w3]\n",
    "        # 最后利用reduce求和\n",
    "        samples=zip(input_vec,self.weights)\n",
    "        vals=map(lambda x:x[0]*x[1],samples)\n",
    "        output=reduce(lambda x,y: x+y, vals)\n",
    "        return self.activator(output+self.bias)\n",
    "    def one_iteration(self,input_vecs,labels,rate):\n",
    "        samples=zip(input_vecs,labels)\n",
    "        for input_vec,label in samples:\n",
    "            output=self.predict(input_vec)\n",
    "            self.update_weights(input_vec,output,label,rate)\n",
    "    def train(self,input_vecs,labels,iteration,rate):\n",
    "        for i in range(iteration):\n",
    "            self.one_iteration(input_vecs,labels,rate)"
   ]
  },
  {
   "cell_type": "code",
   "execution_count": 10,
   "metadata": {},
   "outputs": [
    {
     "name": "stdout",
     "output_type": "stream",
     "text": [
      "[1, 1] 1 0 [0.1, 0.1] 0.1\n",
      "[0, 0] 0 1 [0.1, 0.1] 0.0\n",
      "[1, 0] 0 1 [0.0, 0.1] -0.1\n",
      "[0, 1] 0 0 [0.0, 0.1] -0.1\n",
      "[1, 1] 1 0 [0.1, 0.2] 0.0\n",
      "[0, 0] 0 0 [0.1, 0.2] 0.0\n",
      "[1, 0] 0 1 [0.0, 0.2] -0.1\n",
      "[0, 1] 0 1 [0.0, 0.1] -0.2\n",
      "[1, 1] 1 0 [0.1, 0.2] -0.1\n",
      "[0, 0] 0 0 [0.1, 0.2] -0.1\n",
      "[1, 0] 0 0 [0.1, 0.2] -0.1\n",
      "[0, 1] 0 1 [0.1, 0.1] -0.2\n",
      "[1, 1] 1 0 [0.2, 0.2] -0.1\n",
      "[0, 0] 0 0 [0.2, 0.2] -0.1\n",
      "[1, 0] 0 1 [0.1, 0.2] -0.2\n",
      "[0, 1] 0 0 [0.1, 0.2] -0.2\n",
      "[1, 1] 1 1 [0.1, 0.2] -0.2\n",
      "[0, 0] 0 0 [0.1, 0.2] -0.2\n",
      "[1, 0] 0 0 [0.1, 0.2] -0.2\n",
      "[0, 1] 0 0 [0.1, 0.2] -0.2\n",
      "[1, 1] 1 1 [0.1, 0.2] -0.2\n",
      "[0, 0] 0 0 [0.1, 0.2] -0.2\n",
      "[1, 0] 0 0 [0.1, 0.2] -0.2\n",
      "[0, 1] 0 0 [0.1, 0.2] -0.2\n",
      "[1, 1] 1 1 [0.1, 0.2] -0.2\n",
      "[0, 0] 0 0 [0.1, 0.2] -0.2\n",
      "[1, 0] 0 0 [0.1, 0.2] -0.2\n",
      "[0, 1] 0 0 [0.1, 0.2] -0.2\n",
      "[1, 1] 1 1 [0.1, 0.2] -0.2\n",
      "[0, 0] 0 0 [0.1, 0.2] -0.2\n",
      "[1, 0] 0 0 [0.1, 0.2] -0.2\n",
      "[0, 1] 0 0 [0.1, 0.2] -0.2\n",
      "[1, 1] 1 1 [0.1, 0.2] -0.2\n",
      "[0, 0] 0 0 [0.1, 0.2] -0.2\n",
      "[1, 0] 0 0 [0.1, 0.2] -0.2\n",
      "[0, 1] 0 0 [0.1, 0.2] -0.2\n",
      "[1, 1] 1 1 [0.1, 0.2] -0.2\n",
      "[0, 0] 0 0 [0.1, 0.2] -0.2\n",
      "[1, 0] 0 0 [0.1, 0.2] -0.2\n",
      "[0, 1] 0 0 [0.1, 0.2] -0.2\n"
     ]
    }
   ],
   "source": [
    "def f(x):\n",
    "    return 1 if x>0 else 0\n",
    "p = Perceptron(2,f)\n",
    "input_vecs = [[1,1],[0,0],[1,0],[0,1]]\n",
    "labels = [1,0,0,0]\n",
    "p.train(input_vecs,labels,10,0.1)"
   ]
  },
  {
   "cell_type": "code",
   "execution_count": 185,
   "metadata": {},
   "outputs": [
    {
     "name": "stdout",
     "output_type": "stream",
     "text": [
      "weights\t:[0.1, 0.2]\n",
      "bias\t:-0.200000\n",
      "\n"
     ]
    }
   ],
   "source": [
    "print(p)"
   ]
  },
  {
   "cell_type": "code",
   "execution_count": 190,
   "metadata": {},
   "outputs": [
    {
     "data": {
      "text/plain": [
       "1"
      ]
     },
     "execution_count": 190,
     "metadata": {},
     "output_type": "execute_result"
    }
   ],
   "source": [
    "#验证\n",
    "p.predict([10, 1])"
   ]
  },
  {
   "cell_type": "code",
   "execution_count": 191,
   "metadata": {},
   "outputs": [
    {
     "data": {
      "text/plain": [
       "0"
      ]
     },
     "execution_count": 191,
     "metadata": {},
     "output_type": "execute_result"
    }
   ],
   "source": [
    "p.predict([1, 0.2])"
   ]
  },
  {
   "cell_type": "code",
   "execution_count": 199,
   "metadata": {},
   "outputs": [
    {
     "data": {
      "text/plain": [
       "0"
      ]
     },
     "execution_count": 199,
     "metadata": {},
     "output_type": "execute_result"
    }
   ],
   "source": [
    "p.predict([0.7, 0.6])"
   ]
  },
  {
   "cell_type": "code",
   "execution_count": 200,
   "metadata": {},
   "outputs": [
    {
     "data": {
      "text/plain": [
       "0"
      ]
     },
     "execution_count": 200,
     "metadata": {},
     "output_type": "execute_result"
    }
   ],
   "source": [
    "p.predict([0, 0.01])"
   ]
  }
 ],
 "metadata": {
  "kernelspec": {
   "display_name": "Python 3",
   "language": "python",
   "name": "python3"
  },
  "language_info": {
   "codemirror_mode": {
    "name": "ipython",
    "version": 3
   },
   "file_extension": ".py",
   "mimetype": "text/x-python",
   "name": "python",
   "nbconvert_exporter": "python",
   "pygments_lexer": "ipython3",
   "version": "3.6.4"
  }
 },
 "nbformat": 4,
 "nbformat_minor": 2
}
